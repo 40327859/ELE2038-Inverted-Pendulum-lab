{
 "cells": [
  {
   "cell_type": "code",
   "execution_count": 4,
   "metadata": {},
   "outputs": [],
   "source": [
    "#imports\n",
    "import sympy as sym\n",
    "from sympy import *\n",
    "from sympy.printing.mathml import mathml\n",
    "init_printing(use_unicode=True) # allow LaTeX printing"
   ]
  },
  {
   "cell_type": "code",
   "execution_count": 37,
   "metadata": {},
   "outputs": [
    {
     "data": {
      "image/png": "[encoded data removed]",
      "text/latex": [
       "$\\displaystyle \\frac{4 F + 4 \\ell m x_{4}^{2} \\sin{\\left(x_{3} \\right)} - 3 g m \\sin{\\left(x_{3} \\right)} \\cos{\\left(x_{3} \\right)}}{4 M - 3 m \\cos^{2}{\\left(x_{3} \\right)} + 4 m}$"
      ],
      "text/plain": [
       "                2                                \n",
       "4⋅F + 4⋅ell⋅m⋅x₄ ⋅sin(x₃) - 3⋅g⋅m⋅sin(x₃)⋅cos(x₃)\n",
       "─────────────────────────────────────────────────\n",
       "                          2                      \n",
       "             4⋅M - 3⋅m⋅cos (x₃) + 4⋅m            "
      ]
     },
     "execution_count": 37,
     "metadata": {},
     "output_type": "execute_result"
    }
   ],
   "source": [
    "##Defined equations and variables\n",
    "M, m, g, ell = sym.symbols('M, m, g, ell', positive = True)\n",
    "M, m, g,x1, x2, x3, x4, ell, psi, F = sym.symbols('M, m, g,x1, x2, x3, x4, ell, pshi, F', real = True)\n",
    "\n",
    "#equation 3.1\n",
    "psi = -3*(((m*ell*x4**2*sym.sin(x3))+F*sym.cos(x3)-(M+m)*g*sym.sin(x3)))\n",
    "psi = psi / (ell *(4 * (M + m) -3 * m *((sym.cos(x3)**2))))\n",
    "\n",
    "#equation 3.2\n",
    "phi = (4*m*ell*x4**2*sym.sin(x3) + 4*F - 3*m*g*sym.sin(x3)*sym.cos(x3))\n",
    "phi = phi / (4*(M+m) - 3*m*sym.cos(x3)**2)\n",
    "\n",
    "phi"
   ]
  },
  {
   "cell_type": "code",
   "execution_count": 38,
   "metadata": {},
   "outputs": [
    {
     "data": {
      "image/png": "[encoded data removed]",
      "text/latex": [
       "$\\displaystyle 0$"
      ],
      "text/plain": [
       "0"
      ]
     },
     "execution_count": 38,
     "metadata": {},
     "output_type": "execute_result"
    }
   ],
   "source": [
    "psi0 = psi.subs([(x3,0),(x4,0),(F,0)])\n",
    "psi0"
   ]
  },
  {
   "cell_type": "code",
   "execution_count": 57,
   "metadata": {},
   "outputs": [
    {
     "data": {
      "image/png": "[encoded data removed]",
      "text/latex": [
       "$\\displaystyle \\frac{4}{4 M + m}$"
      ],
      "text/plain": [
       "   4   \n",
       "───────\n",
       "4⋅M + m"
      ]
     },
     "execution_count": 57,
     "metadata": {},
     "output_type": "execute_result"
    }
   ],
   "source": [
    "#equation 3.3\n",
    "d_phi_F = phi.diff(F)\n",
    "phi_F = d_phi_F.subs([(x3,0),(x4,0),(F,0)])\n",
    "phi_F"
   ]
  },
  {
   "cell_type": "code",
   "execution_count": 56,
   "metadata": {},
   "outputs": [
    {
     "data": {
      "image/png": "[encoded data removed]",
      "text/latex": [
       "$\\displaystyle - \\frac{3 g m}{4 M + m}$"
      ],
      "text/plain": [
       "-3⋅g⋅m \n",
       "───────\n",
       "4⋅M + m"
      ]
     },
     "execution_count": 56,
     "metadata": {},
     "output_type": "execute_result"
    }
   ],
   "source": [
    "#equation 3.4\n",
    "d_phi_x3 = phi.diff(x3)\n",
    "phi_x3 = d_phi_x3.subs([(x3,0),(x4,0),(F,0)])\n",
    "phi_x3"
   ]
  },
  {
   "cell_type": "code",
   "execution_count": 45,
   "metadata": {},
   "outputs": [
    {
     "data": {
      "image/png": "[encoded data removed]",
      "text/latex": [
       "$\\displaystyle 0$"
      ],
      "text/plain": [
       "0"
      ]
     },
     "execution_count": 45,
     "metadata": {},
     "output_type": "execute_result"
    }
   ],
   "source": [
    "#equation 3.5\n",
    "d_phi_x4 = phi.diff(x4)\n",
    "phi_x4 = d_phi_x4.subs([(x3,0),(x4,0),(F,0)])\n",
    "phi_x4"
   ]
  },
  {
   "cell_type": "code",
   "execution_count": 69,
   "metadata": {},
   "outputs": [
    {
     "data": {
      "image/png": "[encoded data removed]",
      "text/latex": [
       "$\\displaystyle - \\frac{3}{\\ell \\left(4 M + m\\right)}$"
      ],
      "text/plain": [
       "     -3      \n",
       "─────────────\n",
       "ell⋅(4⋅M + m)"
      ]
     },
     "execution_count": 69,
     "metadata": {},
     "output_type": "execute_result"
    }
   ],
   "source": [
    "\n",
    "#equation 3.9\n",
    "d_psi_F = psi.diff(F)\n",
    "psiF = d_psi_F.subs([(x3,0),(x4,0),(F,0)])\n",
    "psiF\n"
   ]
  },
  {
   "cell_type": "code",
   "execution_count": 70,
   "metadata": {},
   "outputs": [
    {
     "data": {
      "image/png": "[encoded data removed]",
      "text/latex": [
       "$\\displaystyle \\frac{3 g \\left(M + m\\right)}{\\ell \\left(4 M + m\\right)}$"
      ],
      "text/plain": [
       " 3⋅g⋅(M + m) \n",
       "─────────────\n",
       "ell⋅(4⋅M + m)"
      ]
     },
     "execution_count": 70,
     "metadata": {},
     "output_type": "execute_result"
    }
   ],
   "source": [
    "#equation 3.10\n",
    "d_psi_x3 = psi.diff(x3)\n",
    "psix3 = d_psi_x3.subs([(x3,0),(x4,0),(F,0)])\n",
    "psix3"
   ]
  },
  {
   "cell_type": "code",
   "execution_count": 71,
   "metadata": {},
   "outputs": [
    {
     "data": {
      "image/png": "[encoded data removed]",
      "text/latex": [
       "$\\displaystyle 0$"
      ],
      "text/plain": [
       "0"
      ]
     },
     "execution_count": 71,
     "metadata": {},
     "output_type": "execute_result"
    }
   ],
   "source": [
    "#equation 3.11\n",
    "d_psi_x4 = psi.diff(x4)\n",
    "psix4 = d_psi_x4.subs([(x3,0),(x4,0),(F,0)])\n",
    "psix4"
   ]
  },
  {
   "cell_type": "code",
   "execution_count": 73,
   "metadata": {},
   "outputs": [
    {
     "data": {
      "image/png": "[encoded data removed]",
      "text/latex": [
       "$\\displaystyle \\frac{3 g \\left(M + m\\right)}{\\ell \\left(4 M + m\\right)} - \\frac{3}{\\ell \\left(4 M + m\\right)}$"
      ],
      "text/plain": [
       " 3⋅g⋅(M + m)          3      \n",
       "───────────── - ─────────────\n",
       "ell⋅(4⋅M + m)   ell⋅(4⋅M + m)"
      ]
     },
     "execution_count": 73,
     "metadata": {},
     "output_type": "execute_result"
    }
   ],
   "source": [
    "#equations combined\n",
    "\n",
    "psix3 = d_psi_x3.subs([(x3,0),(x4,0),(F,0)])\n",
    "psix4 = d_psi_x4.subs([(x3,0),(x4,0),(F,0)])\n",
    "\n",
    "psilin = psiF + psix3 + psix4\n",
    "psilin"
   ]
  },
  {
   "cell_type": "code",
   "execution_count": 93,
   "metadata": {},
   "outputs": [
    {
     "data": {
      "image/png": "[encoded data removed]",
      "text/latex": [
       "$\\displaystyle - \\frac{c \\sinh{\\left(\\sqrt{d} t \\right)}}{\\sqrt{d}}$"
      ],
      "text/plain": [
       "-c⋅sinh(√d⋅t) \n",
       "──────────────\n",
       "      √d      "
      ]
     },
     "execution_count": 93,
     "metadata": {},
     "output_type": "execute_result"
    }
   ],
   "source": [
    "#Impulse Response of G_theda\n",
    "c, d, t = sym.symbols('c, d, t', positive=True)\n",
    "s = sym.symbols('s')\n",
    "G = -c/(s**2 - d) #equation 4.3\n",
    "U = 1\n",
    "X = G * U\n",
    "G_theta_ir = sym.inverse_laplace_transform(X, s, t)\n",
    "G_theta_ir"
   ]
  },
  {
   "cell_type": "code",
   "execution_count": 96,
   "metadata": {},
   "outputs": [
    {
     "data": {
      "image/png": "[encoded data removed]",
      "text/latex": [
       "$\\displaystyle - \\frac{c \\cosh{\\left(\\sqrt{d} t \\right)} - c}{d}$"
      ],
      "text/plain": [
       "-(c⋅cosh(√d⋅t) - c) \n",
       "────────────────────\n",
       "         d          "
      ]
     },
     "execution_count": 96,
     "metadata": {},
     "output_type": "execute_result"
    }
   ],
   "source": [
    "#Step Response of G_theta\n",
    "c, d, t = sym.symbols('c, d, t', positive=True)\n",
    "s = sym.symbols('s')\n",
    "G = -c/(s**2 - d) #equation 4.3\n",
    "U = 1/s\n",
    "X = G * U\n",
    "G_theta_sr = sym.inverse_laplace_transform(X, s, t)\n",
    "G_theta_sr"
   ]
  },
  {
   "cell_type": "code",
   "execution_count": 104,
   "metadata": {},
   "outputs": [
    {
     "data": {
      "image/png": "[encoded data removed]",
      "text/latex": [
       "$\\displaystyle - \\frac{c \\sin{\\left(\\omega t \\right)} \\sinh{\\left(\\sqrt{d} t \\right)}}{\\sqrt{d}}$"
      ],
      "text/plain": [
       "-c⋅sin(ω⋅t)⋅sinh(√d⋅t) \n",
       "───────────────────────\n",
       "           √d          "
      ]
     },
     "execution_count": 104,
     "metadata": {},
     "output_type": "execute_result"
    }
   ],
   "source": [
    "#Frequency Response of G_theta\n",
    "c, d, t,omega = sym.symbols('c, d, t,omega', positive=True)\n",
    "s = sym.symbols('s')\n",
    "G = -c/(s**2 - d) #equation 4.3\n",
    "U = sym.sin(omega*t)\n",
    "X = G * U\n",
    "G_theta_fr = sym.inverse_laplace_transform(X, s, t)\n",
    "G_theta_fr"
   ]
  },
  {
   "cell_type": "code",
   "execution_count": 110,
   "metadata": {},
   "outputs": [
    {
     "data": {
      "image/png": "[encoded data removed]",
      "text/latex": [
       "$\\displaystyle a t - \\frac{b c t}{d} + \\frac{b c \\sinh{\\left(\\sqrt{d} t \\right)}}{d^{\\frac{3}{2}}}$"
      ],
      "text/plain": [
       "      b⋅c⋅t   b⋅c⋅sinh(√d⋅t)\n",
       "a⋅t - ───── + ──────────────\n",
       "        d           3/2     \n",
       "                   d        "
      ]
     },
     "execution_count": 110,
     "metadata": {},
     "output_type": "execute_result"
    }
   ],
   "source": [
    "#Impulse Response of G_x\n",
    "a,b,c,d,t = sym.symbols('a,b,c, d, t', positive=True)\n",
    "s = sym.symbols('s')\n",
    "G = a/(s**2) + (b*c)/(s**4 - d*s**2) #equation 4.6\n",
    "U = 1\n",
    "X = G * U\n",
    "G_x_ir = sym.inverse_laplace_transform(X, s, t)\n",
    "G_x_ir"
   ]
  },
  {
   "cell_type": "code",
   "execution_count": 114,
   "metadata": {},
   "outputs": [
    {
     "data": {
      "image/png": "[encoded data removed]",
      "text/latex": [
       "$\\displaystyle \\frac{b c \\left(\\cosh{\\left(\\sqrt{d} t \\right)} - 1\\right) + \\frac{d t^{2} \\left(a d - b c\\right)}{2}}{d^{2}}$"
      ],
      "text/plain": [
       "                          2            \n",
       "                       d⋅t ⋅(a⋅d - b⋅c)\n",
       "b⋅c⋅(cosh(√d⋅t) - 1) + ────────────────\n",
       "                              2        \n",
       "───────────────────────────────────────\n",
       "                    2                  \n",
       "                   d                   "
      ]
     },
     "execution_count": 114,
     "metadata": {},
     "output_type": "execute_result"
    }
   ],
   "source": [
    "#Step Response of G_x\n",
    "a,b,c,d,t = sym.symbols('a,b,c, d, t', positive=True)\n",
    "s = sym.symbols('s')\n",
    "G = a/(s**2) + (b*c)/(s**4 - d*s**2) #equation 4.6\n",
    "U = 1/s\n",
    "X = G * U\n",
    "G_x_sr = sym.inverse_laplace_transform(X, s, t)\n",
    "G_x_sr"
   ]
  },
  {
   "cell_type": "code",
   "execution_count": 117,
   "metadata": {},
   "outputs": [
    {
     "data": {
      "image/png": "[encoded data removed]",
      "text/latex": [
       "$\\displaystyle \\frac{\\left(b c d \\sinh{\\left(\\sqrt{d} t \\right)} + d^{\\frac{3}{2}} t \\left(a d - b c\\right)\\right) \\sin{\\left(\\omega t \\right)}}{d^{\\frac{5}{2}}}$"
      ],
      "text/plain": [
       "⎛                    3/2              ⎞         \n",
       "⎝b⋅c⋅d⋅sinh(√d⋅t) + d   ⋅t⋅(a⋅d - b⋅c)⎠⋅sin(ω⋅t)\n",
       "────────────────────────────────────────────────\n",
       "                       5/2                      \n",
       "                      d                         "
      ]
     },
     "execution_count": 117,
     "metadata": {},
     "output_type": "execute_result"
    }
   ],
   "source": [
    "#Frequency Response of G_x\n",
    "a,b,c,d,t,omega = sym.symbols('a,b,c, d, t,omega', positive=True)\n",
    "s = sym.symbols('s')\n",
    "G = a/(s**2) + (b*c)/(s**4 - d*s**2) #equation 4.6\n",
    "U = sym.sin(omega*t)\n",
    "X = G * U\n",
    "G_x_fr = sym.inverse_laplace_transform(X, s, t)\n",
    "G_x_fr"
   ]
  }
 ],
 "metadata": {
  "kernelspec": {
   "display_name": "base",
   "language": "python",
   "name": "python3"
  },
  "language_info": {
   "codemirror_mode": {
    "name": "ipython",
    "version": 3
   },
   "file_extension": ".py",
   "mimetype": "text/x-python",
   "name": "python",
   "nbconvert_exporter": "python",
   "pygments_lexer": "ipython3",
   "version": "3.9.13"
  },
  "orig_nbformat": 4,
  "vscode": {
   "interpreter": {
    "hash": "95d518d670d4774ec5b5ebdf16112da8de4dc08c62b4717ffeef00ec02345eb5"
   }
  }
 },
 "nbformat": 4,
 "nbformat_minor": 2
}
