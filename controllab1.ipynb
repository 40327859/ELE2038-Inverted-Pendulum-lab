{
 "cells": [
  {
   "cell_type": "code",
   "execution_count": 7,
   "metadata": {},
   "outputs": [],
   "source": [
    "import sympy as sym"
   ]
  },
  {
   "cell_type": "code",
   "execution_count": 11,
   "metadata": {},
   "outputs": [
    {
     "data": {
      "text/latex": [
       "$\\displaystyle \\frac{- 3 F \\cos{\\left(x_{3} \\right)} - 3 \\ell m x_{4}^{2} \\sin{\\left(x_{3} \\right)} + 3 g \\left(M + m\\right) \\sin{\\left(x_{3} \\right)}}{\\ell \\left(4 M - 3 m \\cos^{2}{\\left(x_{3} \\right)} + 4 m\\right)}$"
      ],
      "text/plain": [
       "(-3*F*cos(x3) - 3*ell*m*x4**2*sin(x3) + 3*g*(M + m)*sin(x3))/(ell*(4*M - 3*m*cos(x3)**2 + 4*m))"
      ]
     },
     "execution_count": 11,
     "metadata": {},
     "output_type": "execute_result"
    }
   ],
   "source": [
    "M, m, g, ell = sym.symbols('M, m, g, ell', positive = True)\n",
    "M, m, g,x1, x2, x3, x4, ell, psi, F = sym.symbols('M, m, g,x1, x2, x3, x4, ell, pshi, F', real = True)\n",
    "\n",
    "psi = -3*(((m * ell * x4**2 * sym.sin(x3)) + F * sym.cos(x3) - (M + m) * g * sym.sin(x3)))\n",
    "psi = psi / (ell *(4 * (M + m) -3 * m *((sym.cos(x3)**2))))\n",
    "\n",
    "psi"
   ]
  },
  {
   "cell_type": "code",
   "execution_count": 9,
   "metadata": {},
   "outputs": [
    {
     "data": {
      "text/latex": [
       "$\\displaystyle 0$"
      ],
      "text/plain": [
       "0"
      ]
     },
     "execution_count": 9,
     "metadata": {},
     "output_type": "execute_result"
    }
   ],
   "source": [
    "psi0 = psi.subs([(x3,0),(x4,0),(F,0)])\n",
    "psi0"
   ]
  },
  {
   "cell_type": "code",
   "execution_count": 13,
   "metadata": {},
   "outputs": [
    {
     "data": {
      "text/latex": [
       "$\\displaystyle - \\frac{3 \\cos{\\left(x_{3} \\right)}}{\\ell \\left(4 M - 3 m \\cos^{2}{\\left(x_{3} \\right)} + 4 m\\right)}$"
      ],
      "text/plain": [
       "-3*cos(x3)/(ell*(4*M - 3*m*cos(x3)**2 + 4*m))"
      ]
     },
     "execution_count": 13,
     "metadata": {},
     "output_type": "execute_result"
    }
   ],
   "source": [
    "d_psi_F = psi.diff(F)\n",
    "d_psi_F"
   ]
  },
  {
   "cell_type": "code",
   "execution_count": 12,
   "metadata": {},
   "outputs": [
    {
     "data": {
      "text/latex": [
       "$\\displaystyle - \\frac{6 m \\left(- 3 F \\cos{\\left(x_{3} \\right)} - 3 \\ell m x_{4}^{2} \\sin{\\left(x_{3} \\right)} + 3 g \\left(M + m\\right) \\sin{\\left(x_{3} \\right)}\\right) \\sin{\\left(x_{3} \\right)} \\cos{\\left(x_{3} \\right)}}{\\ell \\left(4 M - 3 m \\cos^{2}{\\left(x_{3} \\right)} + 4 m\\right)^{2}} + \\frac{3 F \\sin{\\left(x_{3} \\right)} - 3 \\ell m x_{4}^{2} \\cos{\\left(x_{3} \\right)} + 3 g \\left(M + m\\right) \\cos{\\left(x_{3} \\right)}}{\\ell \\left(4 M - 3 m \\cos^{2}{\\left(x_{3} \\right)} + 4 m\\right)}$"
      ],
      "text/plain": [
       "-6*m*(-3*F*cos(x3) - 3*ell*m*x4**2*sin(x3) + 3*g*(M + m)*sin(x3))*sin(x3)*cos(x3)/(ell*(4*M - 3*m*cos(x3)**2 + 4*m)**2) + (3*F*sin(x3) - 3*ell*m*x4**2*cos(x3) + 3*g*(M + m)*cos(x3))/(ell*(4*M - 3*m*cos(x3)**2 + 4*m))"
      ]
     },
     "execution_count": 12,
     "metadata": {},
     "output_type": "execute_result"
    }
   ],
   "source": [
    "d_psi_x3 = psi.diff(x3)\n",
    "d_psi_x3"
   ]
  },
  {
   "cell_type": "code",
   "execution_count": 14,
   "metadata": {},
   "outputs": [
    {
     "data": {
      "text/latex": [
       "$\\displaystyle - \\frac{6 m x_{4} \\sin{\\left(x_{3} \\right)}}{4 M - 3 m \\cos^{2}{\\left(x_{3} \\right)} + 4 m}$"
      ],
      "text/plain": [
       "-6*m*x4*sin(x3)/(4*M - 3*m*cos(x3)**2 + 4*m)"
      ]
     },
     "execution_count": 14,
     "metadata": {},
     "output_type": "execute_result"
    }
   ],
   "source": [
    "d_psi_x4 = psi.diff(x4)\n",
    "d_psi_x4"
   ]
  },
  {
   "cell_type": "code",
   "execution_count": 19,
   "metadata": {},
   "outputs": [
    {
     "data": {
      "text/latex": [
       "$\\displaystyle \\frac{3 g \\left(M + m\\right)}{\\ell \\left(4 M + m\\right)} - \\frac{3}{\\ell \\left(4 M + m\\right)}$"
      ],
      "text/plain": [
       "3*g*(M + m)/(ell*(4*M + m)) - 3/(ell*(4*M + m))"
      ]
     },
     "execution_count": 19,
     "metadata": {},
     "output_type": "execute_result"
    }
   ],
   "source": [
    "psiF = d_psi_F.subs([(x3,0),(x4,0),(F,0)])\n",
    "psix3 = d_psi_x3.subs([(x3,0),(x4,0),(F,0)])\n",
    "psix4 = d_psi_x4.subs([(x3,0),(x4,0),(F,0)])\n",
    "\n",
    "psilin = psiF + psix3 + psix4\n",
    "psilin"
   ]
  }
 ],
 "metadata": {
  "kernelspec": {
   "display_name": "base",
   "language": "python",
   "name": "python3"
  },
  "language_info": {
   "codemirror_mode": {
    "name": "ipython",
    "version": 3
   },
   "file_extension": ".py",
   "mimetype": "text/x-python",
   "name": "python",
   "nbconvert_exporter": "python",
   "pygments_lexer": "ipython3",
   "version": "3.9.13"
  },
  "orig_nbformat": 4,
  "vscode": {
   "interpreter": {
    "hash": "95d518d670d4774ec5b5ebdf16112da8de4dc08c62b4717ffeef00ec02345eb5"
   }
  }
 },
 "nbformat": 4,
 "nbformat_minor": 2
}
